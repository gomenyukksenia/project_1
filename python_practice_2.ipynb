﻿{
  "nbformat": 4,
  "nbformat_minor": 0,
  "metadata": {
    "colab": {
      "provenance": []
    },
    "kernelspec": {
      "name": "python3",
      "display_name": "Python 3"
    },
    "language_info": {
      "name": "python"
    }
  },
  "cells": [
    {
      "cell_type": "markdown",
      "source": [
        "# I. Змінні та памʼять."
      ],
      "metadata": {
        "id": "p9wwt0LZzNvn"
      }
    },
    {
      "cell_type": "markdown",
      "source": [
        "1. Створити змінні, що посилаються на два цілих числа, що однакові за значенням, де значення належить проміжку від -5 до 256. Перевірте, чи будуть ці змінні рівні тільки за значенням або ж ще будуть посилатися на один і той самий обʼєкт в памʼяті? Наведіть код та дайте текстову відповідь нижче."
      ],
      "metadata": {
        "id": "HTJrrm95xSV9"
      }
    },
    {
      "cell_type": "code",
      "execution_count": 1,
      "metadata": {
        "id": "TATni2vzayjG",
        "colab": {
          "base_uri": "https://localhost:8080/"
        },
        "outputId": "8902df50-dbdb-4583-b045-bfc6d235d2eb"
      },
      "outputs": [
        {
          "output_type": "stream",
          "name": "stdout",
          "text": [
            "True\n",
            "True\n"
          ]
        }
      ],
      "source": [
        "a = 52\n",
        "b = 52\n",
        "print (a == b)\n",
        "print (id(a) == id(b))"
      ]
    },
    {
      "cell_type": "markdown",
      "source": [
        "Як бачимо, у нас два true, тому змінні рівні і за значенням, і за айдішкою (посилаються на одну комірку в пам'яті)\n"
      ],
      "metadata": {
        "id": "zfRG_o3WbRdg"
      }
    },
    {
      "cell_type": "markdown",
      "source": [
        "2. За допомогою якої функції можна перевірити належність змінної до вказаного типу даних (напр. чи змінна True посилається на значення булевого та цілочисленого типу)?"
      ],
      "metadata": {
        "id": "ISORzt6M3vAt"
      }
    },
    {
      "cell_type": "code",
      "source": [
        "x = True\n",
        "print(isinstance(x, bool))\n"
      ],
      "metadata": {
        "id": "9vL9CFaMbfyo",
        "colab": {
          "base_uri": "https://localhost:8080/"
        },
        "outputId": "623337d8-a7f0-457e-c366-d189afd40b60"
      },
      "execution_count": 2,
      "outputs": [
        {
          "output_type": "stream",
          "name": "stdout",
          "text": [
            "True\n"
          ]
        }
      ]
    },
    {
      "cell_type": "markdown",
      "source": [
        "# II. Цілі числа та числа з рухомою комою"
      ],
      "metadata": {
        "id": "tRxugKAxwYLw"
      }
    },
    {
      "cell_type": "markdown",
      "source": [
        "3. Створити дві змінні, що посилаються на будь-які ціле число та число з рухомою комою та продемонструвати такі арифметичні операції: додавання, віднімання, ділення, множення, ділення без залишку, ділення по модулю, приведення до ступеню. Всі результати операцій вивести на екран."
      ],
      "metadata": {
        "id": "NLHkgd5Gybc8"
      }
    },
    {
      "cell_type": "code",
      "source": [
        "a = 2.5\n",
        "b = 10\n",
        "print(b+a) #додавання\n",
        "print(b-a) #віднімання\n",
        "print(a*b) #множення\n",
        "print(b/a) #ділення без залишку\n",
        "print(b%a) #остача\n",
        "print(b//a) #ділення по модулю\n",
        "print(a**b) #степінь"
      ],
      "metadata": {
        "id": "nb8u_3pjb2cA",
        "colab": {
          "base_uri": "https://localhost:8080/"
        },
        "outputId": "f8070a3d-b518-4186-ac52-5295ff5e3024"
      },
      "execution_count": 8,
      "outputs": [
        {
          "output_type": "stream",
          "name": "stdout",
          "text": [
            "12.5\n",
            "7.5\n",
            "25.0\n",
            "4.0\n",
            "0.0\n",
            "4.0\n",
            "9536.7431640625\n"
          ]
        }
      ]
    },
    {
      "cell_type": "markdown",
      "source": [
        "4. Використовуючи змінні з вправи 3, продемонструйте механізм явного перетворення типів, де числа з рухомою комою перетворюються на цілі числа. Також визначте змінну, що посилається на значення булевого типу і спробуйте явно привести її до цілого числа."
      ],
      "metadata": {
        "id": "1kBClKgPzZnC"
      }
    },
    {
      "cell_type": "code",
      "source": [
        "a = 2.5\n",
        "print(\"float to int: \", int(a))\n",
        "c = True\n",
        "print(\"bool (True) to int: \", int(c))\n",
        "d = False\n",
        "print(\"bool (False) to int: \", int(d))"
      ],
      "metadata": {
        "id": "TbqJbkeUcKsD",
        "colab": {
          "base_uri": "https://localhost:8080/"
        },
        "outputId": "5b75074b-cc0a-4b9f-fac9-391b03fe31c7"
      },
      "execution_count": 4,
      "outputs": [
        {
          "output_type": "stream",
          "name": "stdout",
          "text": [
            "float to int:  2\n",
            "bool (True) to int:  1\n",
            "bool (False) to int:  0\n"
          ]
        }
      ]
    },
    {
      "cell_type": "markdown",
      "source": [
        "# IІІ. Рядки (String)."
      ],
      "metadata": {
        "id": "EVJ7AflwxrZi"
      }
    },
    {
      "cell_type": "markdown",
      "source": [
        "5. Створити пустий рядок двома різними способами."
      ],
      "metadata": {
        "id": "_s5ECzz9zE61"
      }
    },
    {
      "cell_type": "code",
      "source": [
        "a = \"\"\n",
        "b = ''"
      ],
      "metadata": {
        "id": "fkZJHu9Scvc-"
      },
      "execution_count": 5,
      "outputs": []
    },
    {
      "cell_type": "markdown",
      "source": [
        "6. Створити рядок з апострофом. Зробити його сирим. Вивести обидва рядка на екран."
      ],
      "metadata": {
        "id": "4Bdn9J3MzLf_"
      }
    },
    {
      "cell_type": "code",
      "source": [
        "a = \"'\"\n",
        "print(a)\n",
        "a = r\"'\"\n",
        "print(a)"
      ],
      "metadata": {
        "id": "ivji_hsmc0GH",
        "colab": {
          "base_uri": "https://localhost:8080/"
        },
        "outputId": "354e6f11-0cd0-4062-e775-628ea5012b2c"
      },
      "execution_count": 11,
      "outputs": [
        {
          "output_type": "stream",
          "name": "stdout",
          "text": [
            "'\n",
            "'\n"
          ]
        }
      ]
    },
    {
      "cell_type": "markdown",
      "source": [
        "7. Створити змінну, що буде посилатися на Ваше прізвище латинкою. Створити форматований рядок, який буде мати вигляд \"My surname is ______\", де на місці нижніх підкреслень буде Ваше прізвище зі змінної."
      ],
      "metadata": {
        "id": "bg_d8wM4z8dS"
      }
    },
    {
      "cell_type": "code",
      "source": [
        "a = \"Gomenyuk\"\n",
        "b = \"My surname is \" + a\n",
        "print(b)"
      ],
      "metadata": {
        "id": "kuxFgpWndACq",
        "colab": {
          "base_uri": "https://localhost:8080/"
        },
        "outputId": "45500211-9ccd-4114-efe1-b4a04070acb9"
      },
      "execution_count": 14,
      "outputs": [
        {
          "output_type": "stream",
          "name": "stdout",
          "text": [
            "My surname is Gomenyuk\n"
          ]
        }
      ]
    },
    {
      "cell_type": "markdown",
      "source": [
        "8. Маючи рядок \"My dog is crazy.\" перетворити його на список [\"my\", \"dog\", \"is\", \"crazy\"]"
      ],
      "metadata": {
        "id": "1Nc6RqvQ0hxU"
      }
    },
    {
      "cell_type": "code",
      "source": [
        "a = \"My dog is crazy\"\n",
        "print(a.split(\" \"))"
      ],
      "metadata": {
        "id": "w1Ya4RqedUhw",
        "colab": {
          "base_uri": "https://localhost:8080/"
        },
        "outputId": "fdca966e-9622-449f-952c-ebdac06456d6"
      },
      "execution_count": 16,
      "outputs": [
        {
          "output_type": "stream",
          "name": "stdout",
          "text": [
            "['My', 'dog', 'is', 'crazy']\n"
          ]
        }
      ]
    },
    {
      "cell_type": "markdown",
      "source": [
        "# IV. Робота зі списками."
      ],
      "metadata": {
        "id": "GYVqN9uP1D4n"
      }
    },
    {
      "cell_type": "markdown",
      "source": [
        "9. Створити список двома різними за синтаксисом способами. За допомогою вбудованої функції обчисліть довжину одного з них."
      ],
      "metadata": {
        "id": "7-DeDunw2sO-"
      }
    },
    {
      "cell_type": "code",
      "source": [
        "a = [1, 2, 3, 4, 5]\n",
        "b = list(\"12345\")\n",
        "print(len(b))"
      ],
      "metadata": {
        "id": "zxg06Uuxdyoh",
        "colab": {
          "base_uri": "https://localhost:8080/"
        },
        "outputId": "69a890c1-d9ad-4ccf-ce83-a73de9ba64d5"
      },
      "execution_count": 18,
      "outputs": [
        {
          "output_type": "stream",
          "name": "stdout",
          "text": [
            "5\n"
          ]
        }
      ]
    },
    {
      "cell_type": "markdown",
      "source": [
        "10. Створіть два списка та за допомогою спеціального методу додайте другий з них в якості останнього елемента першого."
      ],
      "metadata": {
        "id": "8vmGUTjL22gI"
      }
    },
    {
      "cell_type": "code",
      "source": [
        "a = [\"i\", \"love\"]\n",
        "b = [\"baked\", \"potato\"]\n",
        "a.append(b)\n",
        "print(a)"
      ],
      "metadata": {
        "id": "uHtjWYw7d7hm",
        "colab": {
          "base_uri": "https://localhost:8080/"
        },
        "outputId": "76362006-7e8a-47d2-b060-0e5d90493ce1"
      },
      "execution_count": 26,
      "outputs": [
        {
          "output_type": "stream",
          "name": "stdout",
          "text": [
            "['i', 'love', ['baked', 'potato']]\n"
          ]
        }
      ]
    },
    {
      "cell_type": "markdown",
      "source": [
        "11. Створіть список, де елементами цього списку також є списки. Отримай перший елемент з останнього рядка та виведи значення на екран."
      ],
      "metadata": {
        "id": "JC3BkD-67_--"
      }
    },
    {
      "cell_type": "code",
      "source": [
        "a = [[\"i\", \"love\"], [\"baked\", \"potato\"], [\"fresh\", \"tomato\"]]\n",
        "print(a[-1][0])"
      ],
      "metadata": {
        "id": "Kz2jZHsGeLlz",
        "colab": {
          "base_uri": "https://localhost:8080/"
        },
        "outputId": "5533d69e-f13b-4332-bc0a-0462699f4d39"
      },
      "execution_count": 27,
      "outputs": [
        {
          "output_type": "stream",
          "name": "stdout",
          "text": [
            "fresh\n"
          ]
        }
      ]
    },
    {
      "cell_type": "markdown",
      "source": [
        "12. Створіть список з десяти елементів різного типу. Отримайте всі елементи, окрім двох перших та двох останніх та збережіть їх в новій змінній."
      ],
      "metadata": {
        "id": "JA47PKTv8zFK"
      }
    },
    {
      "cell_type": "code",
      "source": [
        "a = [1, 3.0, \"something\", True, [1, 2], 45, \"y\", 8.903, 90, \"anything\"]\n",
        "b = a[3:-2]\n",
        "print(b)"
      ],
      "metadata": {
        "id": "_rHdUR-ueP4-",
        "colab": {
          "base_uri": "https://localhost:8080/"
        },
        "outputId": "eb4ddf57-73b9-4f11-9d6e-8a69ad493241"
      },
      "execution_count": 29,
      "outputs": [
        {
          "output_type": "stream",
          "name": "stdout",
          "text": [
            "[True, [1, 2], 45, 'y', 8.903]\n"
          ]
        }
      ]
    },
    {
      "cell_type": "markdown",
      "source": [
        "# V. Робота з кортежами."
      ],
      "metadata": {
        "id": "pCjR1dJb1Qbi"
      }
    },
    {
      "cell_type": "markdown",
      "source": [
        "14. Створити кортеж з один елементом."
      ],
      "metadata": {
        "id": "fAZCxAX06R_k"
      }
    },
    {
      "cell_type": "code",
      "source": [
        "my_tuple = (1,)\n",
        "print(my_tuple)"
      ],
      "metadata": {
        "id": "H7d82WkQev3e",
        "colab": {
          "base_uri": "https://localhost:8080/"
        },
        "outputId": "cc0266e5-e176-4a93-96c6-5f5b7e5213d0"
      },
      "execution_count": 10,
      "outputs": [
        {
          "output_type": "stream",
          "name": "stdout",
          "text": [
            "(1,)\n"
          ]
        }
      ]
    },
    {
      "cell_type": "markdown",
      "source": [
        "15. Порівняйте список та кортеж. Назвіть схожості та відмінності, випадки використання."
      ],
      "metadata": {
        "id": "8LCtYcmI6w1M"
      }
    },
    {
      "cell_type": "markdown",
      "source": [
        "Кортежі, на відміну від списків, незмінні та не мають методів додавання, віднімання елементів, це тільки read only.\n",
        "Списки ж ми можемо редагувати і змінювати як захочеться.\n",
        "Списки позначаються квадратними дужками [], кортежі - круглими ().\n",
        "Також списки повільніші, ніж кортежі.\n",
        "\n",
        "У обох структур є індексація елементів, слайсинг.\n",
        "Списки більше використовуються, коли потрібні змінні дані, які можна модифікувати. Кортежі ж там, де потрібна стала, незмінна послідовність даних."
      ],
      "metadata": {
        "id": "fUsN1Hnue0C6"
      }
    },
    {
      "cell_type": "markdown",
      "source": [
        "16. Створіть кортеж з 11ти елементів чисел з рухомою комою та отримайте кожен парний за індексом елемент в зворотньому порядку. Наприклад, маючи (1.2, 2.3, 3.3, 4.3, 5.3, 6.3, 7.3, 8.3, 9.3, 0.3), отримати (0.3, 8.3, 6.3, 4.3, 2.3). Результат збережіть в нову змінну та виведіть на екран."
      ],
      "metadata": {
        "id": "m0xrwFijAmDD"
      }
    },
    {
      "cell_type": "code",
      "source": [
        "tuple1 = (1.2, 2.3, 3.3, 4.3, 5.3, 6.3, 7.3, 8.3, 9.3, 0.3)\n",
        "tuple2 = tuple1[::-2]\n",
        "print(tuple2)"
      ],
      "metadata": {
        "id": "p-5DAH6XfAGA",
        "colab": {
          "base_uri": "https://localhost:8080/"
        },
        "outputId": "456d3d56-af64-41c5-b769-cabaeee72f91"
      },
      "execution_count": 26,
      "outputs": [
        {
          "output_type": "stream",
          "name": "stdout",
          "text": [
            "(0.3, 8.3, 6.3, 4.3, 2.3)\n"
          ]
        }
      ]
    },
    {
      "cell_type": "markdown",
      "source": [
        "# VI. Множини (Set)."
      ],
      "metadata": {
        "id": "rW_I9dt3x6cW"
      }
    },
    {
      "cell_type": "markdown",
      "source": [
        "17. Створити множину без елементів. Після цого за допомогою методу додайте кілька різних елементів до множини. Чи множини є змінним типом даних?"
      ],
      "metadata": {
        "id": "zNjRLHLw1Bgg"
      }
    },
    {
      "cell_type": "code",
      "source": [
        "my_set = set()\n",
        "my_set.add(9)\n",
        "my_set.add(\"lalala\")\n",
        "my_set.add(15)\n",
        "print(my_set)"
      ],
      "metadata": {
        "id": "KOv7zc2Kfo4N",
        "colab": {
          "base_uri": "https://localhost:8080/"
        },
        "outputId": "17576524-18e1-4a62-a778-32c0fa305448"
      },
      "execution_count": 39,
      "outputs": [
        {
          "output_type": "stream",
          "name": "stdout",
          "text": [
            "{'lalala', 9, 15}\n"
          ]
        }
      ]
    },
    {
      "cell_type": "markdown",
      "source": [
        "Так, множини є змінним типом даних. Вони можуть змінюватися шляхом додавання, видалення та оновлення елементів."
      ],
      "metadata": {
        "id": "vxS6dVYiftZQ"
      }
    },
    {
      "cell_type": "markdown",
      "source": [
        "18. Створити множину, маючи список my_list = [1, 1, 2, 67, 67, 8, 9]. Пояснити, чому \"зникли\" деякі елементи."
      ],
      "metadata": {
        "id": "gHpT0Zw_1HEF"
      }
    },
    {
      "cell_type": "code",
      "source": [
        "my_list = [1, 1, 2, 67, 67, 8, 9]\n",
        "set1 = set(my_list)\n",
        "print(set1)"
      ],
      "metadata": {
        "id": "qCN4uvJ_fxmu",
        "colab": {
          "base_uri": "https://localhost:8080/"
        },
        "outputId": "25239a63-4122-4f3a-8974-b166f54b6a44"
      },
      "execution_count": 40,
      "outputs": [
        {
          "output_type": "stream",
          "name": "stdout",
          "text": [
            "{1, 2, 67, 8, 9}\n"
          ]
        }
      ]
    },
    {
      "cell_type": "markdown",
      "source": [
        "Зникли саме ті елементи, які повторюються, адже в множинах не може бути однакових елементів"
      ],
      "metadata": {
        "id": "tFNc1e20fyny"
      }
    },
    {
      "cell_type": "markdown",
      "source": [
        "19. Створіть дві множини. Продемонстуйте над ними операції: обʼєднання, різниці, пересічі та симетричної різниці. Використовуйте методи, що не змінюють множини, а створюють нові."
      ],
      "metadata": {
        "id": "SRMkGizS1UwY"
      }
    },
    {
      "cell_type": "code",
      "source": [
        "set1 = {1, 2, 5, 6, 4, 90}\n",
        "set2 = {90, 6, 4, 3, 67, 1, 80}\n",
        "\n",
        "union = set1.union(set2)\n",
        "print(\"union\", union)\n",
        "\n",
        "difference = set1.difference(set2)\n",
        "print(\"difference\", difference)\n",
        "\n",
        "intersection = set1.intersection(set2)\n",
        "print(\"intersection\", intersection)\n",
        "\n",
        "symmetric_difference = set1.symmetric_difference(set2)\n",
        "print(\"symmetric_difference:\", symmetric_difference)"
      ],
      "metadata": {
        "id": "h0T-VuDnf3Ri",
        "colab": {
          "base_uri": "https://localhost:8080/"
        },
        "outputId": "f993c2e3-8994-4134-913b-2273fd123518"
      },
      "execution_count": 49,
      "outputs": [
        {
          "output_type": "stream",
          "name": "stdout",
          "text": [
            "union {1, 2, 3, 4, 5, 6, 67, 80, 90}\n",
            "difference {2, 5}\n",
            "intersection {1, 90, 4, 6}\n",
            "symmetric_difference: {80, 2, 3, 67, 5}\n"
          ]
        }
      ]
    },
    {
      "cell_type": "markdown",
      "source": [
        "# VII. Словники (Dictionary)."
      ],
      "metadata": {
        "id": "kWc8gkzTx7Ea"
      }
    },
    {
      "cell_type": "markdown",
      "source": [
        "20. Створіть пустий словник. До нього додайте чотири пари елементів такі, щоб їхні ключі були різних типів. Чи може список бути ключем? Чому?"
      ],
      "metadata": {
        "id": "i5FLwj-B2ybQ"
      }
    },
    {
      "cell_type": "code",
      "source": [
        "dict = {}\n",
        "dict[18] = \"age\"\n",
        "dict[\"Ksenia\"] = \"name\"\n",
        "dict[(1, 2, 3)] = \"count\"\n",
        "dict[True] = \"правда\"\n",
        "\n",
        "print(dict)"
      ],
      "metadata": {
        "id": "hxgv3BzrgLAV",
        "colab": {
          "base_uri": "https://localhost:8080/"
        },
        "outputId": "d98b19fd-994c-4a94-a4f6-aaa40c68cb55"
      },
      "execution_count": 53,
      "outputs": [
        {
          "output_type": "stream",
          "name": "stdout",
          "text": [
            "{18: 'age', 'Ksenia': 'name', (1, 2, 3): 'count', True: 'правда'}\n"
          ]
        }
      ]
    },
    {
      "cell_type": "markdown",
      "source": [
        "TypeError: unhashable type: 'list'\n",
        "Список не може бути ключем, бо список - змінна структура даних, а нам потрібні тількі хешовані"
      ],
      "metadata": {
        "id": "zwa7UVN-gR3m"
      }
    },
    {
      "cell_type": "markdown",
      "source": [
        "21. Створіть словник, де значенням в одній з пар теж буде словник, який теж має вкладений словник. Виведіть на екран значення, що міститься в словнику, що знаходиться на найнижчому рівні ієрархії вкладеності (найбільш внутрішній)."
      ],
      "metadata": {
        "id": "WM_pMlJsgoNf"
      }
    },
    {
      "cell_type": "code",
      "source": [
        "dict1 = {\n",
        "    \"key1\":\n",
        "    {\n",
        "        \"1\": \"one\",\n",
        "        \"2\":\n",
        "        {\n",
        "            \"two\":\"eng\",\n",
        "            \"два\":\"ukr\"\n",
        "        }\n",
        "    },\n",
        "    \"key2\":\n",
        "    {\n",
        "        \"3\": \"three\",\n",
        "        \"4\": \"four\"\n",
        "    }\n",
        "}\n",
        "print(dict1[\"key1\"][\"2\"])"
      ],
      "metadata": {
        "id": "60dlP7IHhAy4",
        "colab": {
          "base_uri": "https://localhost:8080/"
        },
        "outputId": "ef460f57-d8fd-4e79-fea3-e407fc7f5ad1"
      },
      "execution_count": 57,
      "outputs": [
        {
          "output_type": "stream",
          "name": "stdout",
          "text": [
            "{'two': 'eng', 'два': 'ukr'}\n"
          ]
        }
      ]
    },
    {
      "cell_type": "markdown",
      "source": [
        "# Вітаю! Ви велика(ий) молодець, що впоралась(вся). Похваліть себе та побалуйте чимось приємним. Я Вами пишаюся."
      ],
      "metadata": {
        "id": "xOZP0hkx6cCr"
      }
    }
  ]
}


