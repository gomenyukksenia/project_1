{
  "nbformat": 4,
  "nbformat_minor": 0,
  "metadata": {
    "colab": {
      "provenance": []
    },
    "kernelspec": {
      "name": "python3",
      "display_name": "Python 3"
    },
    "language_info": {
      "name": "python"
    }
  },
  "cells": [
    {
      "cell_type": "markdown",
      "source": [
        "# I. OOP"
      ],
      "metadata": {
        "id": "5qV_sehzFCTp"
      }
    },
    {
      "cell_type": "markdown",
      "source": [
        "1. (6б). Створіть клас Animal, додайте три атрибути, один з яких має значення за замовчуванням та два методи на свій розсуд."
      ],
      "metadata": {
        "id": "tx_U_hOALyfg"
      }
    },
    {
      "cell_type": "code",
      "source": [
        "class Animal():\n",
        " def __init__(self, size, name, home = \"Ukraine\"):\n",
        "  self.size = size\n",
        "  self.name = name\n",
        "  self.home = home\n",
        " def output_name(self):\n",
        "  print(\"Her/his name is \", self.name)\n",
        " def output_home(self):\n",
        "  print(\"You can find him/her in \", self.home)"
      ],
      "metadata": {
        "id": "-Vf895KaL88N"
      },
      "execution_count": null,
      "outputs": []
    },
    {
      "cell_type": "markdown",
      "source": [
        "2. (2б). Створіть два обʼєкти цього класу, де один з обʼєктів створюється із дефолтним значенням атрибуту. На одному обʼєкті отримайте значення його атрибуту, а на іншому викличте один з його методів."
      ],
      "metadata": {
        "id": "X_UlOMB0L93w"
      }
    },
    {
      "cell_type": "code",
      "source": [
        "capibara = Animal(34, \"Monica\")\n",
        "print(capibara.name)\n",
        "\n",
        "flamingo = Animal(102, \"Nevil\", \"Maldives\")\n",
        "flamingo.output_home()"
      ],
      "metadata": {
        "id": "7gBu0ESOMCpG",
        "colab": {
          "base_uri": "https://localhost:8080/"
        },
        "outputId": "89cf889c-7908-43d7-df0b-dda2c8490dd3"
      },
      "execution_count": null,
      "outputs": [
        {
          "output_type": "stream",
          "name": "stdout",
          "text": [
            "Monica\n",
            "You can find him/her in  Maldives\n"
          ]
        }
      ]
    },
    {
      "cell_type": "markdown",
      "source": [
        "3. (5б). Створіть клас, де атрибути мають різні рівні доступу. Спробуйте отримати їхні значення та опишіть результати."
      ],
      "metadata": {
        "id": "HoqSCZt1MHn5"
      }
    },
    {
      "cell_type": "code",
      "source": [
        "class Dostup():\n",
        "  def __init__(self):\n",
        "    self.public = \"Public attribute\"\n",
        "    self._protected = \"Protected attribute\"\n",
        "    self.__private = \"Private attribute\"\n",
        "\n",
        "obj = Dostup()\n",
        "print(obj.public)\n",
        "print(obj._protected)\n",
        "print(obj.__private) # на відміну від попередніх двох, цей вид доступу не доступний\n",
        "# ззовні класу, тому і випливає ерор"
      ],
      "metadata": {
        "id": "r9b3vJxBMSPV",
        "colab": {
          "base_uri": "https://localhost:8080/",
          "height": 216
        },
        "outputId": "8d54d937-cf92-4258-e180-31157f2fb895"
      },
      "execution_count": null,
      "outputs": [
        {
          "output_type": "stream",
          "name": "stdout",
          "text": [
            "Public attribute\n",
            "Protected attribute\n"
          ]
        },
        {
          "output_type": "error",
          "ename": "AttributeError",
          "evalue": "'Dostup' object has no attribute '__private'",
          "traceback": [
            "\u001b[0;31m---------------------------------------------------------------------------\u001b[0m",
            "\u001b[0;31mAttributeError\u001b[0m                            Traceback (most recent call last)",
            "\u001b[0;32m<ipython-input-2-25cab23185ed>\u001b[0m in \u001b[0;36m<cell line: 10>\u001b[0;34m()\u001b[0m\n\u001b[1;32m      8\u001b[0m \u001b[0mprint\u001b[0m\u001b[0;34m(\u001b[0m\u001b[0mobj\u001b[0m\u001b[0;34m.\u001b[0m\u001b[0mpublic\u001b[0m\u001b[0;34m)\u001b[0m\u001b[0;34m\u001b[0m\u001b[0;34m\u001b[0m\u001b[0m\n\u001b[1;32m      9\u001b[0m \u001b[0mprint\u001b[0m\u001b[0;34m(\u001b[0m\u001b[0mobj\u001b[0m\u001b[0;34m.\u001b[0m\u001b[0m_protected\u001b[0m\u001b[0;34m)\u001b[0m\u001b[0;34m\u001b[0m\u001b[0;34m\u001b[0m\u001b[0m\n\u001b[0;32m---> 10\u001b[0;31m \u001b[0mprint\u001b[0m\u001b[0;34m(\u001b[0m\u001b[0mobj\u001b[0m\u001b[0;34m.\u001b[0m\u001b[0m__private\u001b[0m\u001b[0;34m)\u001b[0m\u001b[0;34m\u001b[0m\u001b[0;34m\u001b[0m\u001b[0m\n\u001b[0m",
            "\u001b[0;31mAttributeError\u001b[0m: 'Dostup' object has no attribute '__private'"
          ]
        }
      ]
    },
    {
      "cell_type": "markdown",
      "source": [
        "4. (7б). Як ви розумієте термін self? Для чого використовується метод __init __?"
      ],
      "metadata": {
        "id": "5op2m2vgMSkZ"
      }
    },
    {
      "cell_type": "markdown",
      "source": [
        "Self пишеться на першому місці серед атрибутів класу і призначений для посилання на якийсь конктретний об'єкт (атрибут). Завдяки ньому ми метод має доступ до атрибутів та інших методів класу.\n",
        "\n",
        "Метод __init __ є обов'язковим для ініціалізації атрибутів, в ньому можемо вказати початкові значення, якщо потрібно. Викликається кожного разу як створюється об'єкт даного класу."
      ],
      "metadata": {
        "id": "DyiPqNRvMasx"
      }
    },
    {
      "cell_type": "markdown",
      "source": [
        "5. (9б). Створіть клас Фігура без атрибутів, з методом get_area для отримання площі фігури, що повертає 0 та __add __, який приймає self та other в якості аргументів, а повертає суму площин фігур self та other."
      ],
      "metadata": {
        "id": "-6X8EGfjMd2y"
      }
    },
    {
      "cell_type": "code",
      "source": [
        "class Figure():\n",
        " def get_area(self):\n",
        "  return 0\n",
        " def __add__(self, other):\n",
        "  return self.get_area() + other.get_area()"
      ],
      "metadata": {
        "id": "4rvO_wYUMaEr"
      },
      "execution_count": null,
      "outputs": []
    },
    {
      "cell_type": "markdown",
      "source": [
        "6. (11б). Створіть 2 дочірніх класи від Фігури: Трикутник та Коло, які мають атрибути, необхідні для розрахунку площин. Визначте метод get_area в кожному з них так, щоби вони розраховували площу в залежності від формули для кожного типу фігури. Створіть обʼєкт класу Трикутник та обʼєкт класу Коло. Виконайте операцію суми за допомогою оператора + між ними."
      ],
      "metadata": {
        "id": "SFcKnnv5Mo_z"
      }
    },
    {
      "cell_type": "code",
      "source": [
        "import math\n",
        "\n",
        "class Figure():\n",
        " def get_area(self):\n",
        "  return 0\n",
        " def __add__(self, other):\n",
        "  return self.get_area() + other.get_area()\n",
        "\n",
        "class Triangle(Figure):\n",
        "  def __init__(self, h, a):\n",
        "    self.height = h\n",
        "    self.base = a\n",
        "  def get_area(self):\n",
        "    return 0.5 * self.height * self.base\n",
        "\n",
        "class Circle(Figure):\n",
        "  def __init__(self, r):\n",
        "    self.radius = r\n",
        "  def get_area(self):\n",
        "    return math.pi * self.radius ** 2\n",
        "\n",
        "\n",
        "my_tr = Triangle(4, 10);\n",
        "my_cir = Circle(3)\n",
        "print(f\"total area of my figures is {my_cir.get_area() + my_tr.get_area()}\")\n"
      ],
      "metadata": {
        "id": "H3GVNr69Muf3",
        "colab": {
          "base_uri": "https://localhost:8080/"
        },
        "outputId": "3bb13409-f8c8-4a03-f772-f6efb1a05f6a"
      },
      "execution_count": 11,
      "outputs": [
        {
          "output_type": "stream",
          "name": "stdout",
          "text": [
            "total area of my figures is 48.27433388230814\n"
          ]
        }
      ]
    },
    {
      "cell_type": "markdown",
      "source": [
        "7. (3б). Продемонструйте різницю між isinstance та issubclass."
      ],
      "metadata": {
        "id": "HCvR206YMvLK"
      }
    },
    {
      "cell_type": "code",
      "source": [
        "x = isinstance(5, int)\n",
        "print(x)\n",
        "# ця функція дає нам знати чи зазначений об'єкт зазначеного типу\n",
        "\n",
        "class Person:\n",
        "  age = 36\n",
        "  name = \"Someone\"\n",
        "\n",
        "class Society(Person):\n",
        "  name = \"John\"\n",
        "  age = Person\n",
        "\n",
        "y = issubclass(Society, Person)\n",
        "print(y)\n",
        "# ця фунція дозволяє перевіряти чи є заданий клас підкласом другого заданого класу"
      ],
      "metadata": {
        "id": "L_V1bBvDM0GN",
        "colab": {
          "base_uri": "https://localhost:8080/"
        },
        "outputId": "62e925bc-b27e-4274-c34c-4cc46669d2c2"
      },
      "execution_count": 17,
      "outputs": [
        {
          "output_type": "stream",
          "name": "stdout",
          "text": [
            "True\n",
            "True\n"
          ]
        }
      ]
    },
    {
      "cell_type": "markdown",
      "source": [
        "8. (13б). Створіть клас BankAccount з приватними атрибутами balance та account_number. Реалізуйте методи поповнення та зняття коштів, забезпечивши належну інкапсуляцію. Підказка: використовуйте декоратори property та setter."
      ],
      "metadata": {
        "id": "jjsaBZ-iM0Qq"
      }
    },
    {
      "cell_type": "code",
      "source": [
        "class BankAccount():\n",
        "  def __init__(self, account_number):\n",
        "    self._balance = 0\n",
        "    self._account_number = account_number\n",
        "  @property\n",
        "  def balance(self):\n",
        "    return self._balance\n",
        "  @balance.setter\n",
        "  def balance(self, amount):\n",
        "     self._balance = amount\n",
        "  @property\n",
        "  def account_number(self):\n",
        "     return self._account_number\n",
        "  def deposit(self, amount):\n",
        "     self.balance += amount\n",
        "  def withdraw(self, amount):\n",
        "     self.balance -= amount\n",
        "# будемо вважати що користувач відразу поповнить чи змінить рахунок правильно\n",
        "\n",
        "account = BankAccount(\"123739920890\")\n",
        "print(\"Account Number:\", account.account_number)\n",
        "print(\"Initial Balance:\", account.balance)\n",
        "\n",
        "account.deposit(100)\n",
        "print(\"After Deposit:\", account.balance)\n",
        "\n",
        "account.withdraw(50)\n",
        "print(\"After Withdrawal:\", account.balance)"
      ],
      "metadata": {
        "id": "xCvZ7lh8M7YA",
        "colab": {
          "base_uri": "https://localhost:8080/"
        },
        "outputId": "9a236a4b-50fa-4e95-ec04-9e825684f24b"
      },
      "execution_count": 2,
      "outputs": [
        {
          "output_type": "stream",
          "name": "stdout",
          "text": [
            "Account Number: 123739920890\n",
            "Initial Balance: 0\n",
            "After Deposit: 100\n",
            "After Withdrawal: 50\n"
          ]
        }
      ]
    },
    {
      "cell_type": "markdown",
      "source": [
        "9. (11б). Створіть клас Library, який містить список об'єктів типу Book. Реалізуйте методи для додавання книги, видалення книги та відображення списку книг."
      ],
      "metadata": {
        "id": "tIzL2SJTM8ft"
      }
    },
    {
      "cell_type": "code",
      "source": [
        "class Book():\n",
        "  def __init__(self, name, author):\n",
        "    self.name = name\n",
        "    self.author = author\n",
        "  def __str__(self):\n",
        "    return f\" {self.name} by {self.author}; \"\n",
        "\n",
        "book1 = Book(\"The Seven Husbands of Evelyn Hugo\", \"Taylor Jenkins Reid\")\n",
        "book2 = Book(\"Eat, Pray, Love\", \"Elizabeth Gilbert\")\n",
        "book3 = Book(\"Harry Potter\", \"J.K. Rowling\")\n",
        "\n",
        "class Library():\n",
        "  def __init__(self):\n",
        "     self.books = []\n",
        "  def add(self, book):\n",
        "     self.books.append(book)\n",
        "  def remove(self, book):\n",
        "     self.books.remove(book)\n",
        "  def show(self):\n",
        "    if not self.books:\n",
        "      return \"Empty list(\"\n",
        "    return f\"Current book list: {', '.join(str(book) for book in self.books)}\"\n",
        "\n",
        "library = Library()\n",
        "library.add(book1)\n",
        "library.add(book2)\n",
        "library.add(book3)\n",
        "\n",
        "library.remove(book2)\n",
        "library.show()"
      ],
      "metadata": {
        "id": "HWxfJKLtNAUZ",
        "colab": {
          "base_uri": "https://localhost:8080/",
          "height": 35
        },
        "outputId": "ec5c6578-9588-4511-ecbe-a71190d0ad7f"
      },
      "execution_count": 27,
      "outputs": [
        {
          "output_type": "execute_result",
          "data": {
            "text/plain": [
              "'Current book list:  The Seven Husbands of Evelyn Hugo by Taylor Jenkins Reid; ,  Harry Potter by J.K. Rowling; '"
            ],
            "application/vnd.google.colaboratory.intrinsic+json": {
              "type": "string"
            }
          },
          "metadata": {},
          "execution_count": 27
        }
      ]
    },
    {
      "cell_type": "markdown",
      "source": [
        "10. (13б). Створіть клас Person з атрибутами name та age. Створіть ще один клас Employee з такими атрибутами, як department та salary. Створіть клас Manager, який успадковує обидва класи Person та Employee. Продемонструйте використання множинної спадковості, створивши обʼєкт класу Manager та отримавши mro для цього класу."
      ],
      "metadata": {
        "id": "lmV8pAwwNIqu"
      }
    },
    {
      "cell_type": "code",
      "source": [
        "class Person():\n",
        "  def __init__(self, name, age):\n",
        "    self.name = name\n",
        "    self.age = age\n",
        "\n",
        "class Employee():\n",
        "  def __init__(self, department, salary):\n",
        "    self.department = department\n",
        "    self.salary = salary\n",
        "\n",
        "class Manager(Person, Employee):\n",
        "   def __init__(self, name, age, department, salary):\n",
        "     Person.__init__(self, name, age)\n",
        "     Employee.__init__(self, department, salary)\n",
        "some_manager = Manager(\"Nick\", 28, \"IT\", 50000)\n",
        "print(\"Name:\", some_manager.name)\n",
        "print(\"Age:\", some_manager.age)\n",
        "print(\"Department:\", some_manager.department)\n",
        "print(\"Salary:\", some_manager.salary)\n",
        "print(\"Method Resolution Order (MRO):\", Manager.mro())"
      ],
      "metadata": {
        "id": "R49grKlWNPeN",
        "colab": {
          "base_uri": "https://localhost:8080/"
        },
        "outputId": "9b9851ba-c10e-431f-bec3-189cbdaa5d2d"
      },
      "execution_count": 32,
      "outputs": [
        {
          "output_type": "stream",
          "name": "stdout",
          "text": [
            "Name: Nick\n",
            "Age: 28\n",
            "Department: IT\n",
            "Salary: 50000\n",
            "Method Resolution Order (MRO): [<class '__main__.Manager'>, <class '__main__.Person'>, <class '__main__.Employee'>, <class 'object'>]\n"
          ]
        }
      ]
    },
    {
      "cell_type": "markdown",
      "source": [
        "# II. Iterator"
      ],
      "metadata": {
        "id": "dIJyUiNBFG8G"
      }
    },
    {
      "cell_type": "markdown",
      "source": [
        "11. (4б). Визначте рядок(str) з 4ма різними за значенням символами. Створіть ітератор на основі цього рядка. Викличте 5 разів функцію next на ітераторі, 4ри перших з них огорніть у ф-цію print()."
      ],
      "metadata": {
        "id": "13vsm0NyKIzL"
      }
    },
    {
      "cell_type": "code",
      "source": [
        "my_string = \"9458041850840\"\n",
        "my_iterator = iter(my_string)\n",
        "for _ in range(5):\n",
        "    next_value = next(my_iterator)\n",
        "    if _ < 4:\n",
        "        print(next_value)"
      ],
      "metadata": {
        "id": "81ntabAkKuz-",
        "colab": {
          "base_uri": "https://localhost:8080/"
        },
        "outputId": "99dafc0c-77b9-4c93-ddef-3ff615e449f8"
      },
      "execution_count": 28,
      "outputs": [
        {
          "output_type": "stream",
          "name": "stdout",
          "text": [
            "9\n",
            "4\n",
            "5\n",
            "8\n"
          ]
        }
      ]
    },
    {
      "cell_type": "markdown",
      "source": [
        "А що якщо викликати цю ж функцію на рядку?"
      ],
      "metadata": {
        "id": "aekWHGXOLRsO"
      }
    },
    {
      "cell_type": "code",
      "source": [
        "print(iter(my_string))\n",
        "# маємо використовувати функцію next, щоб виводилось поітераційно\n",
        "\n",
        "next(my_iterator)\n",
        "# бачимо що вивело лише один символ - одну ітерацію"
      ],
      "metadata": {
        "id": "mxATGsErLV1i",
        "colab": {
          "base_uri": "https://localhost:8080/",
          "height": 53
        },
        "outputId": "3a18baf0-35d3-4c35-fd63-7214bb8b9eb7"
      },
      "execution_count": 34,
      "outputs": [
        {
          "output_type": "stream",
          "name": "stdout",
          "text": [
            "<str_iterator object at 0x7c0817e04fa0>\n"
          ]
        },
        {
          "output_type": "execute_result",
          "data": {
            "text/plain": [
              "'4'"
            ],
            "application/vnd.google.colaboratory.intrinsic+json": {
              "type": "string"
            }
          },
          "metadata": {},
          "execution_count": 34
        }
      ]
    },
    {
      "cell_type": "markdown",
      "source": [
        " 12. (5б). Опишіть своїми словами в одному реченні, як ви розумієте різницю між ітерабельними обʼєктами та ітераторами (можна на прикладі)."
      ],
      "metadata": {
        "id": "XwtMEopwJ4pH"
      }
    },
    {
      "cell_type": "markdown",
      "source": [
        "Ітерабельні об'єкти - це списки, кортежі і тд, це об'єкти по яким можна \"пройтись\" тобто ітеруватись. І щоб пройтись по кожному елементу у цих об'єктах використовують ітератори.\n",
        "Як нам порівнювали на лекції, ітерабельні об'єкти - це учні в класі, а ітератор - це вчитель, що тикає указкою на кожного учня\n",
        "\n"
      ],
      "metadata": {
        "id": "-sHrODc3KFn8"
      }
    },
    {
      "cell_type": "markdown",
      "source": [
        "13. (11б). Створіть клас, що має визначений Iterator Protocol та при кожному виклику next повертає літери англійської абетки, поки вони не вичерпаються."
      ],
      "metadata": {
        "id": "E9qJWmNbK8Gl"
      }
    },
    {
      "cell_type": "code",
      "source": [
        "class Alphabet:\n",
        "    def __init__(self):\n",
        "        self.current_char = ord('a')\n",
        "\n",
        "    def __iter__(self):\n",
        "        return self\n",
        "\n",
        "    def __next__(self):\n",
        "        if self.current_char > ord('z'):\n",
        "            raise StopIteration\n",
        "        char = chr(self.current_char)\n",
        "        self.current_char += 1\n",
        "        return char\n",
        "\n",
        "alphabet_iterator = Alphabet()\n",
        "\n",
        "for _ in range(100):\n",
        "    print(next(alphabet_iterator))\n",
        "# видасть помилку, бо в абетці менше літер ніж 100, але таким чином зупиниться"
      ],
      "metadata": {
        "id": "cqx-g_RsLo6I",
        "colab": {
          "base_uri": "https://localhost:8080/",
          "height": 770
        },
        "outputId": "058d5435-2f6e-4248-d2fb-d925d4016a41"
      },
      "execution_count": 37,
      "outputs": [
        {
          "output_type": "stream",
          "name": "stdout",
          "text": [
            "a\n",
            "b\n",
            "c\n",
            "d\n",
            "e\n",
            "f\n",
            "g\n",
            "h\n",
            "i\n",
            "j\n",
            "k\n",
            "l\n",
            "m\n",
            "n\n",
            "o\n",
            "p\n",
            "q\n",
            "r\n",
            "s\n",
            "t\n",
            "u\n",
            "v\n",
            "w\n",
            "x\n",
            "y\n",
            "z\n"
          ]
        },
        {
          "output_type": "error",
          "ename": "StopIteration",
          "evalue": "",
          "traceback": [
            "\u001b[0;31m---------------------------------------------------------------------------\u001b[0m",
            "\u001b[0;31mStopIteration\u001b[0m                             Traceback (most recent call last)",
            "\u001b[0;32m<ipython-input-37-b1cacd116441>\u001b[0m in \u001b[0;36m<cell line: 17>\u001b[0;34m()\u001b[0m\n\u001b[1;32m     16\u001b[0m \u001b[0;34m\u001b[0m\u001b[0m\n\u001b[1;32m     17\u001b[0m \u001b[0;32mfor\u001b[0m \u001b[0m_\u001b[0m \u001b[0;32min\u001b[0m \u001b[0mrange\u001b[0m\u001b[0;34m(\u001b[0m\u001b[0;36m100\u001b[0m\u001b[0;34m)\u001b[0m\u001b[0;34m:\u001b[0m\u001b[0;34m\u001b[0m\u001b[0;34m\u001b[0m\u001b[0m\n\u001b[0;32m---> 18\u001b[0;31m     \u001b[0mprint\u001b[0m\u001b[0;34m(\u001b[0m\u001b[0mnext\u001b[0m\u001b[0;34m(\u001b[0m\u001b[0malphabet_iterator\u001b[0m\u001b[0;34m)\u001b[0m\u001b[0;34m)\u001b[0m\u001b[0;34m\u001b[0m\u001b[0;34m\u001b[0m\u001b[0m\n\u001b[0m",
            "\u001b[0;32m<ipython-input-37-b1cacd116441>\u001b[0m in \u001b[0;36m__next__\u001b[0;34m(self)\u001b[0m\n\u001b[1;32m      8\u001b[0m     \u001b[0;32mdef\u001b[0m \u001b[0m__next__\u001b[0m\u001b[0;34m(\u001b[0m\u001b[0mself\u001b[0m\u001b[0;34m)\u001b[0m\u001b[0;34m:\u001b[0m\u001b[0;34m\u001b[0m\u001b[0;34m\u001b[0m\u001b[0m\n\u001b[1;32m      9\u001b[0m         \u001b[0;32mif\u001b[0m \u001b[0mself\u001b[0m\u001b[0;34m.\u001b[0m\u001b[0mcurrent_char\u001b[0m \u001b[0;34m>\u001b[0m \u001b[0mord\u001b[0m\u001b[0;34m(\u001b[0m\u001b[0;34m'z'\u001b[0m\u001b[0;34m)\u001b[0m\u001b[0;34m:\u001b[0m\u001b[0;34m\u001b[0m\u001b[0;34m\u001b[0m\u001b[0m\n\u001b[0;32m---> 10\u001b[0;31m             \u001b[0;32mraise\u001b[0m \u001b[0mStopIteration\u001b[0m\u001b[0;34m\u001b[0m\u001b[0;34m\u001b[0m\u001b[0m\n\u001b[0m\u001b[1;32m     11\u001b[0m         \u001b[0mchar\u001b[0m \u001b[0;34m=\u001b[0m \u001b[0mchr\u001b[0m\u001b[0;34m(\u001b[0m\u001b[0mself\u001b[0m\u001b[0;34m.\u001b[0m\u001b[0mcurrent_char\u001b[0m\u001b[0;34m)\u001b[0m\u001b[0;34m\u001b[0m\u001b[0;34m\u001b[0m\u001b[0m\n\u001b[1;32m     12\u001b[0m         \u001b[0mself\u001b[0m\u001b[0;34m.\u001b[0m\u001b[0mcurrent_char\u001b[0m \u001b[0;34m+=\u001b[0m \u001b[0;36m1\u001b[0m\u001b[0;34m\u001b[0m\u001b[0;34m\u001b[0m\u001b[0m\n",
            "\u001b[0;31mStopIteration\u001b[0m: "
          ]
        }
      ]
    },
    {
      "cell_type": "markdown",
      "source": [
        "# Вітаю! Ви велика(ий) молодець, що впоралась(вся). Похваліть себе та побалуйте чимось приємним. Я Вами пишаюся."
      ],
      "metadata": {
        "id": "Z3E3S_s1Fv7-"
      }
    }
  ]
}